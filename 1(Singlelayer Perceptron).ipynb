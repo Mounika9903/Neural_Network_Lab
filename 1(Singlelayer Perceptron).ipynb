{
 "cells": [
  {
   "cell_type": "code",
   "execution_count": 4,
   "id": "0ad7f5e0-c056-45e5-98be-7d70aa46e33f",
   "metadata": {},
   "outputs": [
    {
     "name": "stdout",
     "output_type": "stream",
     "text": [
      "\u001b[1m1/1\u001b[0m \u001b[32m━━━━━━━━━━━━━━━━━━━━\u001b[0m\u001b[37m\u001b[0m \u001b[1m0s\u001b[0m 344ms/step - accuracy: 1.0000 - loss: 0.0379\n",
      "OR Gate Accuracy: 1.0\n",
      "\u001b[1m1/1\u001b[0m \u001b[32m━━━━━━━━━━━━━━━━━━━━\u001b[0m\u001b[37m\u001b[0m \u001b[1m0s\u001b[0m 344ms/step - accuracy: 0.2500 - loss: 0.6931\n",
      "XOR Gate Accuracy: 0.25\n",
      "\u001b[1m1/1\u001b[0m \u001b[32m━━━━━━━━━━━━━━━━━━━━\u001b[0m\u001b[37m\u001b[0m \u001b[1m0s\u001b[0m 170ms/step\n",
      "The model predicts 0 for your input.\n"
     ]
    }
   ],
   "source": [
    "import numpy as np\n",
    "X_OR = np.array([[0, 0], [0, 1], [1, 0], [1, 1]], dtype=np.float32)\n",
    "y_OR = np.array([[0], [1], [1], [1]], dtype=np.float32)\n",
    "X_XOR = np.array([[0, 0], [0, 1], [1, 0], [1, 1]], dtype=np.float32)\n",
    "y_XOR = np.array([[0], [1], [1], [0]], dtype=np.float32)\n",
    "import tensorflow as tf\n",
    "def train_perceptron(X, y, epochs=100, learning_rate=0.1):\n",
    "    model = tf.keras.Sequential([\n",
    "        tf.keras.layers.Dense(1, activation='sigmoid', input_shape=(2,))\n",
    "    ])\n",
    "    model.compile(optimizer=tf.keras.optimizers.SGD(learning_rate=\n",
    "    learning_rate),loss='binary_crossentropy',\n",
    "    metrics=['accuracy'])     \n",
    "    model.fit(X, y, epochs=epochs, verbose=0)\n",
    "    return model\n",
    "model_OR = train_perceptron(X_OR, y_OR, epochs=500, learning_rate=0.5)\n",
    "loss_OR, accuracy_OR = model_OR.evaluate(X_OR, y_OR)\n",
    "print(f\"OR Gate Accuracy: {accuracy_OR}\")\n",
    "model_XOR = train_perceptron(X_XOR, y_XOR, epochs=1000, learning_rate=0.8)\n",
    "loss_XOR, accuracy_XOR = model_XOR.evaluate(X_XOR, y_XOR)\n",
    "print(f\"XOR Gate Accuracy: {accuracy_XOR}\")\n",
    "input1 = 0\n",
    "input2 = 0\n",
    "user_input = np.array([[input1, input2]])\n",
    "prediction = model_OR.predict(user_input)\n",
    "if prediction > 0.5:\n",
    "    print(\"The model predicts 1 for your input.\")\n",
    "else:\n",
    "    print(\"The model predicts 0 for your input.\")\n",
    " "
   ]
  },
  {
   "cell_type": "code",
   "execution_count": null,
   "id": "e65d0cdc-7ad6-4391-b933-2ae630562eb9",
   "metadata": {},
   "outputs": [],
   "source": []
  }
 ],
 "metadata": {
  "kernelspec": {
   "display_name": "Python 3 (ipykernel)",
   "language": "python",
   "name": "python3"
  },
  "language_info": {
   "codemirror_mode": {
    "name": "ipython",
    "version": 3
   },
   "file_extension": ".py",
   "mimetype": "text/x-python",
   "name": "python",
   "nbconvert_exporter": "python",
   "pygments_lexer": "ipython3",
   "version": "3.13.2"
  }
 },
 "nbformat": 4,
 "nbformat_minor": 5
}
